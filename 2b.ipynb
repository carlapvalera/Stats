{
 "cells": [
  {
   "cell_type": "code",
   "execution_count": 1,
   "metadata": {},
   "outputs": [],
   "source": [
    "import math\n",
    "import numpy as np\n",
    "import pandas as pd\n",
    "from sklearn.preprocessing import StandardScaler\n",
    "from scipy.cluster.hierarchy import dendrogram, linkage\n",
    "from matplotlib import pyplot as plt"
   ]
  },
  {
   "cell_type": "code",
   "execution_count": 12,
   "metadata": {},
   "outputs": [
    {
     "name": "stdout",
     "output_type": "stream",
     "text": [
      "[('NL', 'ARI') ('NL', 'ATL') ('NL', 'CHC') ('NL', 'CIN') ('NL', 'COL')\n",
      " ('NL', 'LAD') ('NL', 'MIA') ('NL', 'MIL') ('NL', 'NYM') ('NL', 'PHI')\n",
      " ('NL', 'PIT') ('NL', 'SDP') ('NL', 'SFG') ('NL', 'STL') ('NL', 'TOT')\n",
      " ('NL', 'WSN')]\n"
     ]
    }
   ],
   "source": [
    "data=pd.read_csv('2022 MLB Player Stats - Batting.csv',delimiter=';')\n",
    "teams=data[data['Lg']=='NL'].groupby(['Lg','Tm'])['H'].mean()\n",
    "u=sum(teams)/len(teams)\n",
    "o2=sum(a**2 for a in teams)/len(teams)-u**2\n",
    "normalized=list(map(lambda x:(x-u)/o2, teams))"
   ]
  },
  {
   "cell_type": "code",
   "execution_count": 18,
   "metadata": {},
   "outputs": [
    {
     "data": {
      "image/png": "[encoded data removed]",
      "text/plain": [
       "<Figure size 720x504 with 1 Axes>"
      ]
     },
     "metadata": {
      "needs_background": "light"
     },
     "output_type": "display_data"
    }
   ],
   "source": [
    "linked=linkage(np.reshape(normalized,(len(normalized),1)),'ward')\n",
    "plt.figure(figsize=(10,7))\n",
    "equipos=list(a for b,a in teams.index.values)\n",
    "dendrogram(linked,orientation='top',labels=equipos,distance_sort='descending',show_leaf_counts=True)\n",
    "plt.show()"
   ]
  },
  {
   "cell_type": "code",
   "execution_count": null,
   "metadata": {},
   "outputs": [],
   "source": []
  }
 ],
 "metadata": {
  "kernelspec": {
   "display_name": "Python 3",
   "language": "python",
   "name": "python3"
  },
  "language_info": {
   "codemirror_mode": {
    "name": "ipython",
    "version": 3
   },
   "file_extension": ".py",
   "mimetype": "text/x-python",
   "name": "python",
   "nbconvert_exporter": "python",
   "pygments_lexer": "ipython3",
   "version": "3.8.5"
  }
 },
 "nbformat": 4,
 "nbformat_minor": 4
}
