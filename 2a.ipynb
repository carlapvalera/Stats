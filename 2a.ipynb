{
 "cells": [
  {
   "cell_type": "code",
   "execution_count": 14,
   "metadata": {},
   "outputs": [],
   "source": [
    "import pandas as pd\n",
    "import numpy as np\n",
    "import seaborn as sns\n",
    "import matplotlib.pyplot as plt\n",
    "from scipy import stats"
   ]
  },
  {
   "cell_type": "code",
   "execution_count": 15,
   "metadata": {},
   "outputs": [],
   "source": [
    "# Carga de datos\n",
    "data=pd.read_csv('2022 MLB Player Stats - Batting.csv',delimiter=';')\n",
    "data=data[data['SB']>=1]\n",
    "WSN=data[data['Tm'] =='WSN']['H']\n",
    "COL=data[data['Tm']=='COL']['H']\n",
    "ATL=data[data['Tm']=='ATL']['H']\n",
    "CHC=data[data['Tm']=='CHC']['H']\n",
    "#Para comprobar si las medias de Hits por equipo son estadísticamente iguales, se puede utilizar un ANOVA de una vía. Sin embargo, antes de realizar la prueba, es necesario comprobar los supuestos del ANOVA: normalidad y homogeneidad de varianzas.\n",
    "#Para verificar la normalidad de los datos, se puede utilizar la prueba de Shapiro-Wilk para cada equipo. El resultado de esta prueba se muestra a continuación:\n",
    "#Si todos los casos, el p-value es menor que 0.05, lo que indica que los datos no siguen una distribución normal.\n"
   ]
  },
  {
   "cell_type": "code",
   "execution_count": 16,
   "metadata": {},
   "outputs": [
    {
     "name": "stdout",
     "output_type": "stream",
     "text": [
      "los datos no siguen una distribución normal.\n",
      "Se utilizara la prueba de Bartlett\n",
      "El resultado fue:  0.8153993729016469 . Por lo que las varianzas si son homogeneas\n"
     ]
    }
   ],
   "source": [
    "stat1, p1 = stats.shapiro(WSN)\n",
    "stat2, p2 = stats.shapiro(COL)\n",
    "stat3, p3 = stats.shapiro(ATL)\n",
    "stat4, p4 = stats.shapiro(CHC)\n",
    "\n",
    "p_value=0\n",
    "\n",
    "if(p1<0.05 and p2<0.05 and p3<0.05 and p4<0.05 ):\n",
    "    print(\"los datos no siguen una distribución normal.\")\n",
    "    print(\"Se utilizara la prueba de Levene\")\n",
    "    #Para comprobar la homogeneidad de varianzas\n",
    "    #Para comprobar la homogeneidad de varianzas entre dos o más grupos, se puede utilizar la prueba de Levene o la prueba de Bartlett. La prueba de Levene es más robusta frente a distribuciones no normales, mientras que la prueba de Bartlett asume que las distribuciones son normales.\n",
    "    #uno de los dos\n",
    "    stat0, p0 = stats.levene(WSN, COL, ATL,CHC)\n",
    "    p_value=p0\n",
    "    \n",
    "else:\n",
    "    print(\"los datos no siguen una distribución normal.\")\n",
    "    print(\"Se utilizara la prueba de Bartlett\")\n",
    "    stat_0, p_0 = stats.bartlett(WSN,COL, ATL,CHC)\n",
    "    #El p-value es mayor que 0.05, lo que sugiere que las varianzas de los datos no son significativamente diferentes.\n",
    "    p_value=p_0\n",
    "\n",
    "print(\"El resultado fue: \",p_value,\". Por lo que las varianzas\",\"si\" if p_value>0.05 else \"no\",\"son homogeneas\")\n"
   ]
  },
  {
   "cell_type": "code",
   "execution_count": 22,
   "metadata": {},
   "outputs": [
    {
     "name": "stdout",
     "output_type": "stream",
     "text": [
      "El resultado del test del ANOVA fue:  0.14469638730440354 . Por lo que si  cumplen los supuestos\n"
     ]
    }
   ],
   "source": [
    "#Si no se cumplen los supuestos del ANOVA, no se puede concluir si las medias de Hits por equipo son estadísticamente iguales. Se requiere realizar un análisis más detallado o utilizar otro método estadístico que no dependa de estos supuestos.\n",
    "\n",
    "# ANOVA de Hits por equipo\n",
    "stat_0, p_0 = stats.f_oneway(WSN,CHC,ATL,COL)\n",
    "\n",
    "print(\"El resultado del test del ANOVA fue: \",\n",
    "      p_0,\". Por lo que\",\"si\" if p_0>0.05 else \"no\",\" cumplen los supuestos\")\n",
    "\n",
    "#Si se cumplieran los supuestos de la ANOVA (homogeneidad de varianzas y normalidad de las distribuciones), se podría concluir que no hay diferencias significativas entre las medias de los hits de los equipos. En caso contrario, si se rechaza la hipótesis nula de igualdad de medias, se podría realizar un análisis post hoc para determinar cuáles son los equipos que presentan diferencias significativas en sus medias de hits.\n"
   ]
  },
  {
   "cell_type": "code",
   "execution_count": null,
   "metadata": {},
   "outputs": [],
   "source": []
  }
 ],
 "metadata": {
  "kernelspec": {
   "display_name": "Python 3",
   "language": "python",
   "name": "python3"
  },
  "language_info": {
   "codemirror_mode": {
    "name": "ipython",
    "version": 3
   },
   "file_extension": ".py",
   "mimetype": "text/x-python",
   "name": "python",
   "nbconvert_exporter": "python",
   "pygments_lexer": "ipython3",
   "version": "3.8.5"
  }
 },
 "nbformat": 4,
 "nbformat_minor": 4
}
