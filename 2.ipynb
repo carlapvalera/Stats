{
 "cells": [
  {
   "cell_type": "code",
   "execution_count": 2,
   "metadata": {},
   "outputs": [],
   "source": [
    "import csv\n",
    "import math\n",
    "import numpy as np\n",
    "import pandas as pd\n",
    "import matplotlib.pyplot as plt"
   ]
  },
  {
   "cell_type": "code",
   "execution_count": 3,
   "metadata": {},
   "outputs": [
    {
     "name": "stdout",
     "output_type": "stream",
     "text": [
      "WSN\n",
      "count     18.000000\n",
      "mean      64.277778\n",
      "std       41.503799\n",
      "min        2.000000\n",
      "25%       25.500000\n",
      "50%       77.000000\n",
      "75%       95.500000\n",
      "max      139.000000\n",
      "Name: H, dtype: float64\n",
      "COL\n",
      "count     10.000000\n",
      "mean      76.700000\n",
      "std       52.666772\n",
      "min       12.000000\n",
      "25%       32.000000\n",
      "50%       69.000000\n",
      "75%      129.500000\n",
      "max      140.000000\n",
      "Name: H, dtype: float64\n",
      "ATL\n",
      "count     10.000000\n",
      "mean      97.600000\n",
      "std       51.420273\n",
      "min       30.000000\n",
      "25%       55.000000\n",
      "50%       99.500000\n",
      "75%      123.750000\n",
      "max      177.000000\n",
      "Name: H, dtype: float64\n",
      "CHC\n",
      "count     20.000000\n",
      "mean      56.950000\n",
      "std       44.516673\n",
      "min        5.000000\n",
      "25%       24.250000\n",
      "50%       45.000000\n",
      "75%       91.000000\n",
      "max      155.000000\n",
      "Name: H, dtype: float64\n"
     ]
    }
   ],
   "source": [
    "#Pregunta 2\n",
    "#----------\n",
    "data=pd.read_csv('2022 MLB Player Stats - Batting.csv',delimiter=';')\n",
    "data=data[data['SB']>=1]\n",
    "\n",
    "WSN=data[data['Tm'] =='WSN']['H']\n",
    "COL=data[data['Tm']=='COL']['H']\n",
    "ATL=data[data['Tm']=='ATL']['H']\n",
    "CHC=data[data['Tm']=='CHC']['H']\n",
    "\n",
    "print('WSN')\n",
    "print(WSN.describe())\n",
    "print('COL')\n",
    "print(COL.describe())\n",
    "print('ATL')\n",
    "print(ATL.describe())\n",
    "print('CHC')\n",
    "print(CHC.describe())"
   ]
  },
  {
   "cell_type": "code",
   "execution_count": 66,
   "metadata": {},
   "outputs": [
    {
     "data": {
      "image/png": "[encoded data removed]",
      "text/plain": [
       "<Figure size 432x288 with 2 Axes>"
      ]
     },
     "metadata": {
      "needs_background": "light"
     },
     "output_type": "display_data"
    },
    {
     "name": "stdout",
     "output_type": "stream",
     "text": [
      "CHC\n"
     ]
    }
   ],
   "source": [
    "plt.figure()\n",
    "plt.subplot(211)\n",
    "CHC.plot.hist(bins=8, color='#F2AB6D', rwidth=0.85)\n",
    "plt.subplot(212)\n",
    "plt.boxplot(CHC)\n",
    "plt.show()\n",
    "print('CHC')"
   ]
  },
  {
   "cell_type": "code",
   "execution_count": 67,
   "metadata": {},
   "outputs": [
    {
     "data": {
      "image/png": "[encoded data removed]",
      "text/plain": [
       "<Figure size 432x288 with 2 Axes>"
      ]
     },
     "metadata": {
      "needs_background": "light"
     },
     "output_type": "display_data"
    },
    {
     "name": "stdout",
     "output_type": "stream",
     "text": [
      "ATL\n"
     ]
    }
   ],
   "source": [
    "plt.subplot(211)\n",
    "ATL.plot.hist(bins=8, color='red', rwidth=0.85)\n",
    "plt.subplot(212)\n",
    "plt.boxplot(ATL)\n",
    "plt.show()\n",
    "print('ATL')"
   ]
  },
  {
   "cell_type": "code",
   "execution_count": 69,
   "metadata": {},
   "outputs": [
    {
     "data": {
      "image/png": "[encoded data removed]",
      "text/plain": [
       "<Figure size 432x288 with 2 Axes>"
      ]
     },
     "metadata": {
      "needs_background": "light"
     },
     "output_type": "display_data"
    },
    {
     "name": "stdout",
     "output_type": "stream",
     "text": [
      "COL\n"
     ]
    }
   ],
   "source": [
    "plt.subplot(211)\n",
    "COL.plot.hist(bins=8, color='blue', rwidth=0.85)\n",
    "plt.subplot(212)\n",
    "plt.boxplot(COL)\n",
    "plt.show()\n",
    "print('COL')"
   ]
  },
  {
   "cell_type": "code",
   "execution_count": 70,
   "metadata": {},
   "outputs": [
    {
     "data": {
      "image/png": "[encoded data removed]",
      "text/plain": [
       "<Figure size 432x288 with 2 Axes>"
      ]
     },
     "metadata": {
      "needs_background": "light"
     },
     "output_type": "display_data"
    },
    {
     "name": "stdout",
     "output_type": "stream",
     "text": [
      "WSN\n"
     ]
    }
   ],
   "source": [
    "plt.subplot(211)\n",
    "WSN.plot.hist(bins=8, color='green', rwidth=0.85)\n",
    "plt.subplot(212)\n",
    "plt.boxplot(WSN)\n",
    "plt.show()\n",
    "print('WSN')"
   ]
  },
  {
   "cell_type": "code",
   "execution_count": null,
   "metadata": {},
   "outputs": [],
   "source": []
  },
  {
   "cell_type": "code",
   "execution_count": null,
   "metadata": {},
   "outputs": [],
   "source": []
  }
 ],
 "metadata": {
  "kernelspec": {
   "display_name": "Python 3",
   "language": "python",
   "name": "python3"
  },
  "language_info": {
   "codemirror_mode": {
    "name": "ipython",
    "version": 3
   },
   "file_extension": ".py",
   "mimetype": "text/x-python",
   "name": "python",
   "nbconvert_exporter": "python",
   "pygments_lexer": "ipython3",
   "version": "3.8.5"
  }
 },
 "nbformat": 4,
 "nbformat_minor": 4
}
