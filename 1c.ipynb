{
 "cells": [
  {
   "cell_type": "code",
   "execution_count": 2,
   "metadata": {},
   "outputs": [],
   "source": [
    "import csv\n",
    "import math\n",
    "import numpy as np\n",
    "from matplotlib import pyplot as plt\n",
    "from mpl_toolkits.mplot3d import Axes3D"
   ]
  },
  {
   "cell_type": "code",
   "execution_count": 3,
   "metadata": {},
   "outputs": [],
   "source": [
    "datos=[]\n",
    "with open('2022 MLB Player Stats - Batting.csv',newline='',encoding='utf-8') as archivo_csv:\n",
    "    lector_csv=csv.DictReader(archivo_csv,delimiter=';')\n",
    "    for fila in lector_csv:\n",
    "        datos.append(fila)\n",
    "\n",
    "\n",
    "#casteando la entrada\n",
    "llaves=list(datos[0])\n",
    "for columna in llaves:\n",
    "    if not columna in [\"Name\", \"Tm\", \"Lg\"]:\n",
    "        if not columna in [\"BA\", \"OBP\", \"SLG\", \"OPS\", \"OPS+\"]:\n",
    "            for fila in datos:\n",
    "                fila[columna]=int(fila[columna])\n",
    "        else:\n",
    "            for fila in datos:\n",
    "                fila[columna]=float(fila[columna])"
   ]
  },
  {
   "cell_type": "code",
   "execution_count": 4,
   "metadata": {},
   "outputs": [
    {
     "name": "stdout",
     "output_type": "stream",
     "text": [
      "a)\n",
      "La regresion lineal multiple de RBI y TB resulto:\n",
      "HR = -14.093237249753416 + 0.2542475451793053*RBI + 0.06350788243921907*TB\n"
     ]
    }
   ],
   "source": [
    "Over25_2D_NL=list(filter(lambda x: x['2B']>25 and x[\"Lg\"]==\"NL\" , datos))\n",
    "\n",
    "#El primer supuesto menciona que debe existir una relacion lineal entre las variables \n",
    "#dependientes y las independientes. Y solo hay dos variables que cumplen, por lo que al \n",
    "#aplicar el metodo foward no importa el orden en que tome la variable\n",
    "#Las variables tomadas seran RBI y TB\n",
    "\n",
    "Matriz=np.array(\n",
    "    [\n",
    "        [\n",
    "            len(Over25_2D_NL),\n",
    "            sum(map(lambda x:x['RBI'],Over25_2D_NL)),\n",
    "            sum(map(lambda x:x['TB'],Over25_2D_NL))\n",
    "        ],\n",
    "        [\n",
    "            sum(map(lambda x:x['RBI'],Over25_2D_NL)),\n",
    "            sum(map(lambda x:x['RBI']*x['RBI'],Over25_2D_NL)),\n",
    "            sum(map(lambda x:x['RBI']*x['TB'],Over25_2D_NL))\n",
    "        ],\n",
    "        [\n",
    "            sum(map(lambda x:x['TB'],Over25_2D_NL)),\n",
    "            sum(map(lambda x:x['TB']*x['RBI'],Over25_2D_NL)),\n",
    "            sum(map(lambda x:x['TB']*x['TB'],Over25_2D_NL))\n",
    "        ]\n",
    "    ]\n",
    ")\n",
    "\n",
    "vector=np.array(\n",
    "    [\n",
    "        sum(map(lambda x:x['HR'],Over25_2D_NL)),\n",
    "        sum(map(lambda x:x['RBI']*x['HR'],Over25_2D_NL)),\n",
    "        sum(map(lambda x:x['TB']*x['HR'],Over25_2D_NL))\n",
    "    ]   \n",
    ")\n",
    "\n",
    "c=np.linalg.solve(Matriz,vector)\n",
    "\n",
    "print('a)')\n",
    "print(\"La regresion lineal multiple de RBI y TB resulto:\")\n",
    "print(\"HR = \"+str(c[0])+\" + \"+str(c[1])+\"*RBI + \"+str(c[2])+\"*TB\")"
   ]
  },
  {
   "cell_type": "code",
   "execution_count": 8,
   "metadata": {},
   "outputs": [
    {
     "name": "stdout",
     "output_type": "stream",
     "text": [
      "\n",
      "La regresion lineal multiple realizada con RBI y SO resulto:\n",
      "HR = -8.838190919805308 + 0.3852430183529923*RBI + -1.437846874430908e-05*SO\n",
      "El error cuadratico medio de RBI y TB es: 857.5176141236892\n",
      "El error cuadratico medio de RBI y SO es: 948.8365092171974\n",
      "El mejor modelo matematico es RBI con TB\n"
     ]
    }
   ],
   "source": [
    "#Aprovechemos la matriz y el vector del inciso a\n",
    "\n",
    "Matriz[0][2]=Matriz[2][0]=sum(map(lambda x:x['SO'],Over25_2D_NL))\n",
    "Matriz[1][2]=Matriz[2][1]=Matriz[0][1]*Matriz[0][2]\n",
    "Matriz[2][2]=Matriz[2][0]=sum(map(lambda x:x['SO']*x['SO'],Over25_2D_NL))\n",
    "vector[2]=sum(map(lambda x:x['SO']*x['HR'],Over25_2D_NL))\n",
    "c2=np.linalg.solve(Matriz,vector)\n",
    "print()\n",
    "print(\"La regresion lineal multiple realizada con RBI y SO resulto:\")\n",
    "print(\"HR = \"+str(c2[0])+\" + \"+str(c2[1])+\"*RBI + \"+str(c2[2])+\"*SO\")\n",
    "\n",
    "ECM=sum(map(lambda x:x*x,list(map(lambda x:x['HR']-c[0]-c[1]*x['RBI']-c[2]*x['TB'],Over25_2D_NL))))\n",
    "ECM2=sum(list(map(lambda x:pow(x['HR']-c2[0]-c2[1]*x['RBI']-c2[2]*x['SO'],2),Over25_2D_NL)))\n",
    "\n",
    "print(\"El error cuadratico medio de RBI y TB es:\",ECM)\n",
    "print(\"El error cuadratico medio de RBI y SO es:\",ECM2)\n",
    "print(\"El mejor modelo matematico es RBI con\",'TB' if ECM<ECM2 else 'SO')"
   ]
  },
  {
   "cell_type": "code",
   "execution_count": null,
   "metadata": {},
   "outputs": [],
   "source": []
  }
 ],
 "metadata": {
  "kernelspec": {
   "display_name": "Python 3",
   "language": "python",
   "name": "python3"
  },
  "language_info": {
   "codemirror_mode": {
    "name": "ipython",
    "version": 3
   },
   "file_extension": ".py",
   "mimetype": "text/x-python",
   "name": "python",
   "nbconvert_exporter": "python",
   "pygments_lexer": "ipython3",
   "version": "3.8.5"
  }
 },
 "nbformat": 4,
 "nbformat_minor": 4
}
