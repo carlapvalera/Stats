{
 "cells": [
  {
   "cell_type": "code",
   "execution_count": 17,
   "metadata": {},
   "outputs": [],
   "source": [
    "import csv\n",
    "import math\n",
    "import numpy as np\n",
    "from statsmodels.stats.stattools import durbin_watson\n",
    "from scipy import stats\n",
    "import statsmodels.formula.api as smf\n",
    "import pandas as pd\n",
    "from statsmodels.compat import lzip\n",
    "import statsmodels.stats.api as sms"
   ]
  },
  {
   "cell_type": "code",
   "execution_count": 3,
   "metadata": {},
   "outputs": [],
   "source": [
    "datos=[]\n",
    "with open('2022 MLB Player Stats - Batting.csv',newline='',encoding='utf-8') as archivo_csv:\n",
    "    lector_csv=csv.DictReader(archivo_csv,delimiter=';')\n",
    "    for fila in lector_csv:\n",
    "        datos.append(fila)\n",
    "\n",
    "\n",
    "#casteando la entrada\n",
    "llaves=list(datos[0])\n",
    "for columna in llaves:\n",
    "    if not columna in [\"Name\", \"Tm\", \"Lg\"]:\n",
    "        if not columna in [\"BA\", \"OBP\", \"SLG\", \"OPS\", \"OPS+\"]:\n",
    "            for fila in datos:\n",
    "                fila[columna]=int(fila[columna])\n",
    "        else:\n",
    "            for fila in datos:\n",
    "                fila[columna]=float(fila[columna])"
   ]
  },
  {
   "cell_type": "code",
   "execution_count": 4,
   "metadata": {},
   "outputs": [],
   "source": [
    "Over25_2D_NL=list(filter(lambda x: x['2B']>25 and x[\"Lg\"]==\"NL\" , datos))\n",
    "\n",
    "#El primer supuesto menciona que debe existir una relacion lineal entre las variables \n",
    "#dependientes y las independientes. Y solo hay dos variables que cumplen, por lo que al \n",
    "#aplicar el metodo foward no importa el orden en que tome la variable\n",
    "#Las variables tomadas seran RBI y TB\n",
    "\n",
    "Matriz=np.array(\n",
    "    [\n",
    "        [\n",
    "            len(Over25_2D_NL),\n",
    "            sum(map(lambda x:x['RBI'],Over25_2D_NL)),\n",
    "            sum(map(lambda x:x['TB'],Over25_2D_NL))\n",
    "        ],\n",
    "        [\n",
    "            sum(map(lambda x:x['RBI'],Over25_2D_NL)),\n",
    "            sum(map(lambda x:x['RBI']*x['RBI'],Over25_2D_NL)),\n",
    "            sum(map(lambda x:x['RBI']*x['TB'],Over25_2D_NL))\n",
    "        ],\n",
    "        [\n",
    "            sum(map(lambda x:x['TB'],Over25_2D_NL)),\n",
    "            sum(map(lambda x:x['TB']*x['RBI'],Over25_2D_NL)),\n",
    "            sum(map(lambda x:x['TB']*x['TB'],Over25_2D_NL))\n",
    "        ]\n",
    "    ]\n",
    ")\n",
    "\n",
    "vector=np.array(\n",
    "    [\n",
    "        sum(map(lambda x:x['HR'],Over25_2D_NL)),\n",
    "        sum(map(lambda x:x['RBI']*x['HR'],Over25_2D_NL)),\n",
    "        sum(map(lambda x:x['TB']*x['HR'],Over25_2D_NL))\n",
    "    ]   \n",
    ")\n",
    "\n",
    "c=np.linalg.solve(Matriz,vector)"
   ]
  },
  {
   "cell_type": "code",
   "execution_count": 5,
   "metadata": {},
   "outputs": [
    {
     "name": "stdout",
     "output_type": "stream",
     "text": [
      "comprobando los supuestos\n",
      "Existe una relacion lineal entre las variables dependientes e independientes\n"
     ]
    }
   ],
   "source": [
    "print('comprobando los supuestos')\n",
    "\n",
    "errores=list(map(lambda x:x['HR']-c[0]-c[1]*x['RBI']-c[2]*x['TB'],Over25_2D_NL))\n",
    "NiveldeConfianza=0.05\n",
    "\n",
    "#supuesto 1: Al escoger los campos que estaban en relacion lineal, tenemos el primer supuesto\n",
    "print('Existe una relacion lineal entre las variables dependientes e independientes')"
   ]
  },
  {
   "cell_type": "code",
   "execution_count": 6,
   "metadata": {},
   "outputs": [
    {
     "name": "stdout",
     "output_type": "stream",
     "text": [
      "El nivel de confianza es  95.0 %. Y el test de Durbin Watson da  2.2753518235513273 . Por tanto los errores son  independientes\n"
     ]
    }
   ],
   "source": [
    "\n",
    "#supuesto de independencia de errores\n",
    "dw=durbin_watson(errores)\n",
    "print(\"El nivel de confianza es \",(1-NiveldeConfianza)*100,\"%. Y el test de Durbin Watson da \",\n",
    "    dw,\". Por tanto los errores son \",(\"in\" if dw>NiveldeConfianza else \"\")+'dependientes'\n",
    "    )"
   ]
  },
  {
   "cell_type": "code",
   "execution_count": 7,
   "metadata": {},
   "outputs": [
    {
     "name": "stdout",
     "output_type": "stream",
     "text": [
      "La suma de los errores es 0 y su media tambien es 0\n"
     ]
    }
   ],
   "source": [
    "#supuesto de suma y media de errores\n",
    "if abs(sum(errores))<pow(10,-8):\n",
    "    print('La suma de los errores es 0 y su media tambien es 0')\n",
    "elif abs(sum(errores)/len(errores)<pow(10,-8)):\n",
    "    print('La media de los errores es 0, pero su suma no')\n",
    "else:\n",
    "    print('Ni la media ni la suma de los errores es 0')\n"
   ]
  },
  {
   "cell_type": "code",
   "execution_count": 12,
   "metadata": {},
   "outputs": [
    {
     "name": "stdout",
     "output_type": "stream",
     "text": [
      "Como la muestra es menor que 50, se aplico el test de Shapiro-Wilk\n",
      "El resultado del Test de Shapiro-Wilk da: 0.8901324272155762 por lo que los errores si estan normalmente distribuidos\n"
     ]
    }
   ],
   "source": [
    "#Supuesto de la normalidad\n",
    "p1=0\n",
    "n=len(Over25_2D_NL)\n",
    "if n<50:\n",
    "    stat1, p1 = stats.shapiro(errores)\n",
    "    print(\"Como la muestra es menor que 50, se aplico el test de Shapiro-Wilk\")\n",
    "else:\n",
    "    stat1, p1 =stats.kstest(errores)\n",
    "    print(\"Como la muestra es mayor que 50, se aplico el test de Kolmologov Smirgol\")\n",
    "print(\"El resultado del Test de Shapiro-Wilk da:\",p1,\"por lo que los errores\",\n",
    "      \"si\" if p1>0.05 else \"no\", \"estan normalmente distribuidos\")"
   ]
  },
  {
   "cell_type": "code",
   "execution_count": 22,
   "metadata": {},
   "outputs": [
    {
     "name": "stdout",
     "output_type": "stream",
     "text": [
      "                            OLS Regression Results                            \n",
      "==============================================================================\n",
      "Dep. Variable:                     HR   R-squared:                       0.756\n",
      "Model:                            OLS   Adj. R-squared:                  0.743\n",
      "Method:                 Least Squares   F-statistic:                     57.35\n",
      "Date:                Wed, 21 Jun 2023   Prob (F-statistic):           4.61e-12\n",
      "Time:                        01:50:34   Log-Likelihood:                -118.06\n",
      "No. Observations:                  40   AIC:                             242.1\n",
      "Df Residuals:                      37   BIC:                             247.2\n",
      "Df Model:                           2                                         \n",
      "Covariance Type:            nonrobust                                         \n",
      "==============================================================================\n",
      "                 coef    std err          t      P>|t|      [0.025      0.975]\n",
      "------------------------------------------------------------------------------\n",
      "Intercept     -0.0706      0.021     -3.361      0.002      -0.113      -0.028\n",
      "RBI            1.0000      0.278      3.597      0.001       0.437       1.563\n",
      "TB             1.0000      0.511      1.959      0.058      -0.035       2.035\n",
      "C              0.9950      0.296      3.361      0.002       0.395       1.595\n",
      "==============================================================================\n",
      "Omnibus:                        0.133   Durbin-Watson:                   2.275\n",
      "Prob(Omnibus):                  0.936   Jarque-Bera (JB):                0.177\n",
      "Skew:                          -0.120   Prob(JB):                        0.915\n",
      "Kurtosis:                       2.779   Cond. No.                     2.38e+17\n",
      "==============================================================================\n",
      "\n",
      "Notes:\n",
      "[1] Standard Errors assume that the covariance matrix of the errors is correctly specified.\n",
      "[2] The smallest eigenvalue is 5.85e-31. This might indicate that there are\n",
      "strong multicollinearity problems or that the design matrix is singular.\n",
      "Se cumple el supuesto de Homocedasticidad\n"
     ]
    },
    {
     "data": {
      "text/plain": [
       "[('Lagrange multiplier statistic', 5.372675902469468),\n",
       " ('p-value', 0.14645547106649814),\n",
       " ('f-value', 2.87040673185525),\n",
       " ('f p-value', 0.06936500125821446)]"
      ]
     },
     "execution_count": 22,
     "metadata": {},
     "output_type": "execute_result"
    }
   ],
   "source": [
    "dataframe = pd.DataFrame({'HR': list(map(lambda x:x['HR'],Over25_2D_NL)),\n",
    "                          'RBI': list(map(lambda x:x['RBI']*c[1],Over25_2D_NL)),\n",
    "                          'TB': list(map(lambda x:x['TB']*c[2],Over25_2D_NL)),\n",
    "                          'C':list(map(lambda x:c[0],Over25_2D_NL))\n",
    "                        })\n",
    "fit = smf.ols('HR ~ RBI+TB+C', data=dataframe).fit()\n",
    "print(fit.summary())\n",
    "names = ['Lagrange multiplier statistic', 'p-value',\n",
    "         'f-value', 'f p-value']\n",
    " \n",
    "# Get the test result\n",
    "test_result = sms.het_breuschpagan(fit.resid, fit.model.exog)\n",
    "print(\"Se cumple el supuesto de Homocedasticidad\")\n",
    "\n",
    "lzip(names, test_result)"
   ]
  },
  {
   "cell_type": "code",
   "execution_count": null,
   "metadata": {},
   "outputs": [],
   "source": []
  }
 ],
 "metadata": {
  "kernelspec": {
   "display_name": "Python 3",
   "language": "python",
   "name": "python3"
  },
  "language_info": {
   "codemirror_mode": {
    "name": "ipython",
    "version": 3
   },
   "file_extension": ".py",
   "mimetype": "text/x-python",
   "name": "python",
   "nbconvert_exporter": "python",
   "pygments_lexer": "ipython3",
   "version": "3.8.5"
  }
 },
 "nbformat": 4,
 "nbformat_minor": 4
}
